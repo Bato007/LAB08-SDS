{
 "cells": [
  {
   "cell_type": "code",
   "execution_count": 1,
   "metadata": {},
   "outputs": [],
   "source": [
    "import numpy as np\n",
    "from sklearn.model_selection import train_test_split\n",
    "from keras.models import load_model, Sequential\n",
    "import tensorflow as tf\n",
    "from keras.layers import Convolution2D, MaxPooling2D, Flatten, Dense\n",
    "\n",
    "tf.compat.v1.disable_eager_execution()\n",
    "\n",
    "DIMENSION = 256\n",
    "loaded_model = load_model('./target_model')\n",
    "x_stealed_loaded = np.load('x_val.npy')\n",
    "y_stealed_loaded = np.loadtxt('y_val.txt', delimiter=',')"
   ]
  },
  {
   "cell_type": "code",
   "execution_count": 2,
   "metadata": {},
   "outputs": [],
   "source": [
    "X_train_s, X_test_s, y_train_s, y_test_s = train_test_split(x_stealed_loaded, y_stealed_loaded, test_size=0.30, random_state=1)"
   ]
  },
  {
   "attachments": {},
   "cell_type": "markdown",
   "metadata": {},
   "source": [
    "# Ataque de extraccion"
   ]
  },
  {
   "cell_type": "code",
   "execution_count": 3,
   "metadata": {},
   "outputs": [],
   "source": [
    "from art.estimators.classification import KerasClassifier\n",
    "classifier = KerasClassifier(loaded_model)"
   ]
  },
  {
   "cell_type": "code",
   "execution_count": 4,
   "metadata": {},
   "outputs": [],
   "source": [
    "from art.attacks.extraction import CopycatCNN\n",
    "copycat_cnn = CopycatCNN(\n",
    "  batch_size_fit=16,\n",
    "  batch_size_query=16,\n",
    "  nb_epochs=5,\n",
    "  nb_stolen=len(X_train_s),\n",
    "  classifier=classifier\n",
    ")"
   ]
  },
  {
   "cell_type": "code",
   "execution_count": 5,
   "metadata": {},
   "outputs": [],
   "source": [
    "def createBlankModel():\n",
    "  stolen_m = Sequential()\n",
    "  stolen_m.add(Convolution2D(32, (3, 3), strides=(1, 1), input_shape=(DIMENSION, DIMENSION, 3), activation='relu'))\n",
    "  stolen_m.add(MaxPooling2D(pool_size=(2, 2)))\n",
    "  stolen_m.add(Convolution2D(64, (3, 3), strides=(1, 1), activation='relu'))\n",
    "  stolen_m.add(MaxPooling2D(pool_size=(2, 2)))\n",
    "  stolen_m.add(Flatten())\n",
    "  stolen_m.add(Dense(512, activation='softplus'))\n",
    "  stolen_m.add(Dense(25, activation='sigmoid'))\n",
    "\n",
    "  stolen_m.compile(\n",
    "    optimizer=\"adam\",\n",
    "    loss=\"categorical_crossentropy\",\n",
    "    metrics=[\"accuracy\"]\n",
    "  )\n",
    "  return stolen_m"
   ]
  },
  {
   "cell_type": "code",
   "execution_count": 6,
   "metadata": {},
   "outputs": [],
   "source": [
    "model_stolen = KerasClassifier(model=createBlankModel())"
   ]
  },
  {
   "cell_type": "code",
   "execution_count": 7,
   "metadata": {},
   "outputs": [
    {
     "name": "stderr",
     "output_type": "stream",
     "text": [
      "c:\\Users\\Brand\\AppData\\Local\\Programs\\Python\\Python310\\lib\\site-packages\\keras\\engine\\training_v1.py:2356: UserWarning: `Model.state_updates` will be removed in a future version. This property should not be used in TensorFlow 2.0, as `updates` are applied automatically.\n",
      "  updates=self.state_updates,\n"
     ]
    },
    {
     "name": "stdout",
     "output_type": "stream",
     "text": [
      "Train on 1718 samples\n",
      "Epoch 1/5\n",
      "1718/1718 [==============================] - 77s 45ms/sample - loss: 705.0382 - accuracy: 0.6624\n",
      "Epoch 2/5\n",
      "1718/1718 [==============================] - 74s 43ms/sample - loss: 0.4900 - accuracy: 0.9104\n",
      "Epoch 3/5\n",
      "1718/1718 [==============================] - 74s 43ms/sample - loss: 0.1930 - accuracy: 0.9587\n",
      "Epoch 4/5\n",
      "1718/1718 [==============================] - 75s 44ms/sample - loss: 0.0852 - accuracy: 0.9860\n",
      "Epoch 5/5\n",
      "1718/1718 [==============================] - 75s 43ms/sample - loss: 0.0608 - accuracy: 0.9919\n"
     ]
    }
   ],
   "source": [
    "stolen_classifier = copycat_cnn.extract(\n",
    "  x=X_train_s, \n",
    "  y=y_train_s, \n",
    "  thieved_classifier=model_stolen\n",
    ")"
   ]
  },
  {
   "cell_type": "code",
   "execution_count": 8,
   "metadata": {},
   "outputs": [
    {
     "name": "stderr",
     "output_type": "stream",
     "text": [
      "c:\\Users\\Brand\\AppData\\Local\\Programs\\Python\\Python310\\lib\\site-packages\\keras\\engine\\training_v1.py:2332: UserWarning: `Model.state_updates` will be removed in a future version. This property should not be used in TensorFlow 2.0, as `updates` are applied automatically.\n",
      "  updates = self.state_updates\n"
     ]
    },
    {
     "name": "stdout",
     "output_type": "stream",
     "text": [
      "Original test loss: 0.92 vs stolen test loss: 14.11\n",
      "Original test accuracy: 0.89 vs stolen test accuracy: 0.51\n"
     ]
    }
   ],
   "source": [
    "score_original = classifier._model.evaluate(\n",
    "  x=X_test_s,\n",
    "  y=y_test_s\n",
    ")\n",
    "\n",
    "score_stolen = stolen_classifier._model.evaluate(\n",
    "  x=X_test_s,\n",
    "  y=y_test_s\n",
    ")\n",
    "\n",
    "# Comparing test losses\n",
    "print(f\"Original test loss: {score_original[0]:.2f} \"  f\"vs stolen test loss: {score_stolen[0]:.2f}\")\n",
    "\n",
    "# Comparing test accuracies\n",
    "print(f\"Original test accuracy: {score_original[1]:.2f} \" f\"vs stolen test accuracy: {score_stolen[1]:.2f}\")"
   ]
  },
  {
   "cell_type": "code",
   "execution_count": 9,
   "metadata": {},
   "outputs": [],
   "source": [
    "from art.defences.postprocessor import ReverseSigmoid"
   ]
  },
  {
   "cell_type": "code",
   "execution_count": 10,
   "metadata": {},
   "outputs": [],
   "source": [
    "post_processor = ReverseSigmoid(\n",
    "  beta=1.0,\n",
    "  gamma=0.2\n",
    ")\n",
    "\n",
    "classifier_def = KerasClassifier(\n",
    "  model=loaded_model,\n",
    "  postprocessing_defences=post_processor,\n",
    ")"
   ]
  },
  {
   "cell_type": "code",
   "execution_count": 11,
   "metadata": {},
   "outputs": [
    {
     "name": "stderr",
     "output_type": "stream",
     "text": [
      "c:\\Users\\Brand\\AppData\\Local\\Programs\\Python\\Python310\\lib\\site-packages\\art\\defences\\postprocessor\\reverse_sigmoid.py:75: RuntimeWarning: divide by zero encountered in log\n",
      "  perturbation_r = self.beta * (sigmoid(-self.gamma * np.log((1.0 - preds_clipped) / preds_clipped)) - 0.5)\n"
     ]
    },
    {
     "name": "stdout",
     "output_type": "stream",
     "text": [
      "Train on 1718 samples\n",
      "Epoch 1/5\n",
      "1718/1718 [==============================] - 79s 46ms/sample - loss: 413.8200 - accuracy: 0.4366\n",
      "Epoch 2/5\n",
      "1718/1718 [==============================] - 75s 44ms/sample - loss: 0.8491 - accuracy: 0.7579\n",
      "Epoch 3/5\n",
      "1718/1718 [==============================] - 75s 44ms/sample - loss: 0.3524 - accuracy: 0.8912\n",
      "Epoch 4/5\n",
      "1718/1718 [==============================] - 73s 43ms/sample - loss: 0.3715 - accuracy: 0.9063\n",
      "Epoch 5/5\n",
      "1718/1718 [==============================] - 75s 44ms/sample - loss: 0.2417 - accuracy: 0.9290\n"
     ]
    }
   ],
   "source": [
    "model_stolen_def = KerasClassifier(model=createBlankModel())\n",
    "\n",
    "copycat_cnn_def = CopycatCNN(\n",
    "  batch_size_fit=16,\n",
    "  batch_size_query=16,\n",
    "  nb_epochs=5,\n",
    "  nb_stolen=len(X_train_s),\n",
    "  classifier=classifier_def\n",
    ")\n",
    "\n",
    "stolen_classifier_def = copycat_cnn_def.extract(\n",
    "  x=X_train_s, \n",
    "  y=y_train_s, \n",
    "  thieved_classifier=model_stolen_def\n",
    ")"
   ]
  },
  {
   "cell_type": "code",
   "execution_count": 12,
   "metadata": {},
   "outputs": [
    {
     "name": "stdout",
     "output_type": "stream",
     "text": [
      "Original test loss: 0.92 vs stolen test loss: 12.01\n",
      "Original test accuracy: 0.89 vs stolen test accuracy: 0.05\n"
     ]
    }
   ],
   "source": [
    "score_original = classifier_def._model.evaluate(\n",
    "  x=X_test_s,\n",
    "  y=y_test_s\n",
    ")\n",
    "\n",
    "score_stolen = stolen_classifier_def._model.evaluate(\n",
    "  x=X_test_s,\n",
    "  y=y_test_s\n",
    ")\n",
    "\n",
    "# Comparing test losses\n",
    "print(f\"Original test loss: {score_original[0]:.2f} \"  f\"vs stolen test loss: {score_stolen[0]:.2f}\")\n",
    "\n",
    "# Comparing test accuracies\n",
    "print(f\"Original test accuracy: {score_original[1]:.2f} \" f\"vs stolen test accuracy: {score_stolen[1]:.2f}\")"
   ]
  },
  {
   "attachments": {},
   "cell_type": "markdown",
   "metadata": {},
   "source": [
    "## Descripcion de resultados\n",
    "Como se observan en los datos, se puede concluir que la defensa del modelo fue un exito. Debido a que al no tener defensa se pudo tener una precision de 0.51, mientras que al tener la capa de seguridad el robado tiene una precision de 0.05. Concluyendo asi que el ReverseSigmoid tuvo exito en deter el ataque de extraccion de modelo."
   ]
  }
 ],
 "metadata": {
  "kernelspec": {
   "display_name": "Python 3",
   "language": "python",
   "name": "python3"
  },
  "language_info": {
   "codemirror_mode": {
    "name": "ipython",
    "version": 3
   },
   "file_extension": ".py",
   "mimetype": "text/x-python",
   "name": "python",
   "nbconvert_exporter": "python",
   "pygments_lexer": "ipython3",
   "version": "3.10.8"
  },
  "orig_nbformat": 4
 },
 "nbformat": 4,
 "nbformat_minor": 2
}
