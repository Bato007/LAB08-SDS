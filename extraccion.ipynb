{
 "cells": [
  {
   "cell_type": "code",
   "execution_count": 1,
   "metadata": {},
   "outputs": [
    {
     "name": "stderr",
     "output_type": "stream",
     "text": [
      "c:\\Users\\andre\\AppData\\Local\\Programs\\Python\\Python37\\lib\\site-packages\\tqdm\\auto.py:22: TqdmWarning: IProgress not found. Please update jupyter and ipywidgets. See https://ipywidgets.readthedocs.io/en/stable/user_install.html\n",
      "  from .autonotebook import tqdm as notebook_tqdm\n"
     ]
    }
   ],
   "source": [
    "import numpy as np\n",
    "from sklearn.model_selection import train_test_split\n",
    "from keras.models import load_model, Sequential\n",
    "import tensorflow as tf\n",
    "from art.estimators.classification import KerasClassifier\n",
    "from art.attacks.extraction import CopycatCNN\n",
    "from keras.layers import Convolution2D, MaxPooling2D, Flatten, Dense\n",
    "\n",
    "tf.compat.v1.disable_eager_execution()\n",
    "\n",
    "DIMENSION = 256\n",
    "loaded_model = load_model('./target_model')\n",
    "x_stealed_loaded = np.load('x_val.npy')\n",
    "y_stealed_loaded = np.loadtxt('y_val.txt', delimiter=',')"
   ]
  },
  {
   "cell_type": "code",
   "execution_count": 2,
   "metadata": {},
   "outputs": [],
   "source": [
    "X_train_s, X_test_s, y_train_s, y_test_s = train_test_split(x_stealed_loaded, y_stealed_loaded, test_size=0.30, random_state=1)"
   ]
  },
  {
   "attachments": {},
   "cell_type": "markdown",
   "metadata": {},
   "source": [
    "# Ataque de extraccion"
   ]
  },
  {
   "cell_type": "code",
   "execution_count": 3,
   "metadata": {},
   "outputs": [],
   "source": [
    "classifier = KerasClassifier(loaded_model)"
   ]
  },
  {
   "cell_type": "code",
   "execution_count": 4,
   "metadata": {},
   "outputs": [],
   "source": [
    "copycat_cnn = CopycatCNN(\n",
    "  batch_size_fit=16,\n",
    "  batch_size_query=16,\n",
    "  nb_epochs=5,\n",
    "  nb_stolen=500,\n",
    "  classifier=classifier\n",
    ")"
   ]
  },
  {
   "cell_type": "code",
   "execution_count": 5,
   "metadata": {},
   "outputs": [],
   "source": [
    "stolen_m = Sequential()\n",
    "stolen_m.add(Convolution2D(32, (3, 3), strides=(1, 1), input_shape=(DIMENSION, DIMENSION, 3), activation='relu'))\n",
    "stolen_m.add(MaxPooling2D(pool_size=(2, 2)))\n",
    "stolen_m.add(Convolution2D(64, (3, 3), strides=(1, 1), activation='relu'))\n",
    "stolen_m.add(MaxPooling2D(pool_size=(2, 2)))\n",
    "stolen_m.add(Flatten())\n",
    "stolen_m.add(Dense(512, activation='softplus'))\n",
    "stolen_m.add(Dense(25, activation='sigmoid'))\n",
    "\n",
    "stolen_m.compile(\n",
    "  optimizer=\"adam\",\n",
    "  loss=\"categorical_crossentropy\",\n",
    "  metrics=[\"accuracy\"]\n",
    ")"
   ]
  },
  {
   "cell_type": "code",
   "execution_count": 6,
   "metadata": {},
   "outputs": [],
   "source": [
    "model_stolen = KerasClassifier(model=stolen_m)"
   ]
  },
  {
   "cell_type": "code",
   "execution_count": 7,
   "metadata": {},
   "outputs": [
    {
     "name": "stderr",
     "output_type": "stream",
     "text": [
      "c:\\Users\\andre\\AppData\\Local\\Programs\\Python\\Python37\\lib\\site-packages\\keras\\engine\\training_v1.py:2067: UserWarning: `Model.state_updates` will be removed in a future version. This property should not be used in TensorFlow 2.0, as `updates` are applied automatically.\n",
      "  updates=self.state_updates,\n"
     ]
    },
    {
     "name": "stdout",
     "output_type": "stream",
     "text": [
      "Train on 500 samples\n",
      "Epoch 1/5\n",
      "500/500 [==============================] - 48s 96ms/sample - loss: 3788.7060 - accuracy: 0.3440\n",
      "Epoch 2/5\n",
      "500/500 [==============================] - 38s 75ms/sample - loss: 1.1928 - accuracy: 0.7280\n",
      "Epoch 3/5\n",
      "500/500 [==============================] - 37s 75ms/sample - loss: 0.2941 - accuracy: 0.9380\n",
      "Epoch 4/5\n",
      "500/500 [==============================] - 37s 75ms/sample - loss: 0.1926 - accuracy: 0.9480\n",
      "Epoch 5/5\n",
      "500/500 [==============================] - 37s 75ms/sample - loss: 0.0848 - accuracy: 0.9680\n"
     ]
    }
   ],
   "source": [
    "stolen_classifier = copycat_cnn.extract(\n",
    "  x=X_train_s, \n",
    "  y=y_train_s, \n",
    "  thieved_classifier=model_stolen\n",
    ")"
   ]
  },
  {
   "cell_type": "code",
   "execution_count": 8,
   "metadata": {},
   "outputs": [
    {
     "name": "stderr",
     "output_type": "stream",
     "text": [
      "c:\\Users\\andre\\AppData\\Local\\Programs\\Python\\Python37\\lib\\site-packages\\keras\\engine\\training_v1.py:2045: UserWarning: `Model.state_updates` will be removed in a future version. This property should not be used in TensorFlow 2.0, as `updates` are applied automatically.\n",
      "  updates = self.state_updates\n"
     ]
    },
    {
     "name": "stdout",
     "output_type": "stream",
     "text": [
      "Original test loss: 0.76 vs stolen test loss: 6.96\n",
      "Original test accuracy: 0.90 vs stolen test accuracy: 0.60\n"
     ]
    }
   ],
   "source": [
    "score_original = classifier._model.evaluate(\n",
    "  x=X_test_s,\n",
    "  y=y_test_s\n",
    ")\n",
    "\n",
    "score_stolen = stolen_classifier._model.evaluate(\n",
    "  x=X_test_s,\n",
    "  y=y_test_s\n",
    ")\n",
    "\n",
    "# Comparing test losses\n",
    "print(f\"Original test loss: {score_original[0]:.2f} \"  f\"vs stolen test loss: {score_stolen[0]:.2f}\")\n",
    "\n",
    "# Comparing test accuracies\n",
    "print(f\"Original test accuracy: {score_original[1]:.2f} \" f\"vs stolen test accuracy: {score_stolen[1]:.2f}\")"
   ]
  }
 ],
 "metadata": {
  "kernelspec": {
   "display_name": "Python 3",
   "language": "python",
   "name": "python3"
  },
  "language_info": {
   "codemirror_mode": {
    "name": "ipython",
    "version": 3
   },
   "file_extension": ".py",
   "mimetype": "text/x-python",
   "name": "python",
   "nbconvert_exporter": "python",
   "pygments_lexer": "ipython3",
   "version": "3.7.0"
  },
  "orig_nbformat": 4
 },
 "nbformat": 4,
 "nbformat_minor": 2
}
